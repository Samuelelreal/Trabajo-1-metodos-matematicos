{
  "metadata": {
    "kernelspec": {
      "name": "python",
      "display_name": "Python (Pyodide)",
      "language": "python"
    },
    "language_info": {
      "codemirror_mode": {
        "name": "python",
        "version": 3
      },
      "file_extension": ".py",
      "mimetype": "text/x-python",
      "name": "python",
      "nbconvert_exporter": "python",
      "pygments_lexer": "ipython3",
      "version": "3.8"
    }
  },
  "nbformat_minor": 5,
  "nbformat": 4,
  "cells": [
    {
      "id": "222b71e6-c750-4ebb-9ed0-e5b93d044374",
      "cell_type": "code",
      "source": "#EJERCICIO 3 SECCION 2.4.5",
      "metadata": {
        "trusted": true
      },
      "outputs": [],
      "execution_count": 1
    },
    {
      "id": "92aa3e93-5203-44e7-a383-f4ff765996a1",
      "cell_type": "code",
      "source": "import sympy\nfrom sympy import *",
      "metadata": {
        "trusted": true
      },
      "outputs": [],
      "execution_count": 2
    },
    {
      "id": "dc7165de-cccd-4d27-86ef-f42497abf48f",
      "cell_type": "code",
      "source": "#Considere el espacio vectorial C∞([−1,1]) de funciones reales infinitamente diferenciables \n#definidas en el intervalo [−1,1]. Es claro que el conjunto de monomios {1,x,x2,x3,x4,...} es\n#linealmente independiente en este espacio",
      "metadata": {
        "trusted": true
      },
      "outputs": [],
      "execution_count": 3
    },
    {
      "id": "741f52ad-e07d-4f8b-a8a3-245466b92376",
      "cell_type": "code",
      "source": "# (a). Si suponemos que este espacio vectorial está equipado con un producto interno definido por\n#⟨f|g⟩ = integral( dx f(x)g(x)) de -1 a 1, muestre que esa base de funciones no es ortogonal",
      "metadata": {
        "trusted": true
      },
      "outputs": [],
      "execution_count": 4
    },
    {
      "id": "9ef80f9e-6353-43f5-b1aa-c4860b8cfbf7",
      "cell_type": "code",
      "source": "x = symbols(\"x\")",
      "metadata": {
        "trusted": true
      },
      "outputs": [],
      "execution_count": 5
    },
    {
      "id": "53643eec-0d32-42f4-8c62-46c3e9caa94d",
      "cell_type": "code",
      "source": "def producto_interno_uno(f, g):\n    valor = integrate(f*g,(x,-1,1))\n    return valor",
      "metadata": {
        "trusted": true
      },
      "outputs": [],
      "execution_count": 13
    },
    {
      "id": "9f2b8b36-219f-443a-8cb7-69ad604e625c",
      "cell_type": "code",
      "source": "monomios = [1, x, x**2, x**3, x**4, x**5, x**6, x**7, x**8, x**9, x**10]\norto = True\nfor i in range(len(monomios)):\n    for j in range(len(monomios)):\n        if i != j:\n            producto = producto_interno_uno(monomios[i], monomios[j])\n            if producto != 0:\n                orto = False\n                break\nif orto:\n    print(\"La base es ortogonal\")\nelse:\n    print(\"Hay un par de vectores que no son ortogonales\")\n    ",
      "metadata": {
        "trusted": true
      },
      "outputs": [
        {
          "name": "stdout",
          "output_type": "stream",
          "text": "Hay un par de vectores que no son ortogonales\n"
        }
      ],
      "execution_count": 19
    },
    {
      "id": "0c5b9a39-76b9-4176-9517-5697ae632a8f",
      "cell_type": "code",
      "source": "# (b). Utilizando la definición de producto interno ⟨f|g⟩ = integrate( dx f(x)g(x)) de -1 a 1 ortogonalize la base\n# { 1, x,x2,x3,x4,···} y encuentre los 10 primeros vectores ortogonales, base para C∞ [−1,1] .\n#Esta nueva base de polinomios ortogonales se conoce como los polinomios de Legendre.",
      "metadata": {
        "trusted": true
      },
      "outputs": [],
      "execution_count": null
    },
    {
      "id": "faff5a44-d724-4cbe-a0ce-ee87042f4db7",
      "cell_type": "code",
      "source": "def ortogonalizar(array_vectors):\n\n    #elegimos el primer vector de la base ortogonal\n    base_ortogonal = [array_vectors[0]]\n    \n    for i in range(1, len(array_vectors)):\n\n        #este sera el siguiente vector que vamos a ortogonalizar\n        vector = array_vectors[i]\n        #en este array vamos a guardar los terminos de las proyecciones\n        terminos = []\n        #aqui vamos a restar todos los terminos del array anterior\n        resta = 0\n        \n        for j in range(i-1, -1, -1):\n           \n            terminos.append(((producto_interno_uno(vector, base_ortogonal[j]))/(producto_interno_uno(base_ortogonal[j], base_ortogonal[j])))*base_ortogonal[j])\n        \n        for d in range(0, len(terminos)):\n            \n            resta = resta + terminos[d]\n\n        #restamos el vector pa volver ortogonal a todos los demas y lo guardamos en la base ortogonal\n        vector = vector - resta    \n        base_ortogonal.append(vector)\n            \n\n    return base_ortogonal\n        \n        ",
      "metadata": {
        "trusted": true
      },
      "outputs": [],
      "execution_count": 20
    },
    {
      "id": "23165a5d-19a9-4fa3-adb8-2fd49b7da721",
      "cell_type": "code",
      "source": "polinomios_de_Legendre = ortogonalizar(monomios)\nprint(pretty(polinomios_de_Legendre))",
      "metadata": {
        "trusted": true
      },
      "outputs": [
        {
          "name": "stdout",
          "output_type": "stream",
          "text": "⎡                                2                3                 4      2   ↪\n⎢       2   1   3   3⋅x   4   6⋅x    3    5   10⋅x    5⋅x   6   15⋅x    5⋅x    ↪\n⎢1, x, x  - ─, x  - ───, x  - ──── + ──, x  - ───── + ───, x  - ───── + ──── - ↪\n⎣           3        5         7     35         9     21         11      11    ↪\n\n↪                5        3                  6       4       2                 ↪\n↪   5    7   21⋅x    105⋅x    35⋅x   8   28⋅x    14⋅x    28⋅x     7     9   36 ↪\n↪  ───, x  - ───── + ────── - ────, x  - ───── + ───── - ───── + ────, x  - ── ↪\n↪  231        13      143     429         15      13      143    1287        1 ↪\n\n↪   7        5       3                   8        6        4        2        ⎤\n↪ ⋅x    126⋅x    84⋅x    63⋅x   10   45⋅x    630⋅x    210⋅x    315⋅x     63  ⎥\n↪ ─── + ────── - ───── + ────, x   - ───── + ────── - ────── + ────── - ─────⎥\n↪ 7       85      221    2431         19      323      323      4199    46189⎦\n"
        }
      ],
      "execution_count": 21
    },
    {
      "id": "cc26b98e-bce2-4bca-8522-8cc8360fbf1d",
      "cell_type": "code",
      "source": "",
      "metadata": {
        "trusted": true
      },
      "outputs": [],
      "execution_count": null
    }
  ]
}