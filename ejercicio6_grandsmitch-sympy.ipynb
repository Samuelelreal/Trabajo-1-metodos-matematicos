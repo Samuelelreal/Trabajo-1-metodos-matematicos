{
  "metadata": {
    "kernelspec": {
      "name": "python",
      "display_name": "Python (Pyodide)",
      "language": "python"
    },
    "language_info": {
      "codemirror_mode": {
        "name": "python",
        "version": 3
      },
      "file_extension": ".py",
      "mimetype": "text/x-python",
      "name": "python",
      "nbconvert_exporter": "python",
      "pygments_lexer": "ipython3",
      "version": "3.8"
    }
  },
  "nbformat_minor": 5,
  "nbformat": 4,
  "cells": [
    {
      "id": "6bb25788-d80b-41ae-bb43-3287645331f1",
      "cell_type": "code",
      "source": "import sympy as sp\nfrom sympy import *\n",
      "metadata": {
        "trusted": true
      },
      "outputs": [],
      "execution_count": 5
    },
    {
      "id": "ae6d4276-bea4-4827-a71c-5a842ab2c84a",
      "cell_type": "code",
      "source": "# Utilizando SymPy reproduzca el ejemplo 2. que expusimos en la página 131. Es decir, suponga el\n#espacio de polinomios, Pn, de grado g ≤ n definidos en elintervalo [−1,1]. Este espacio vectorial\n#tendrá como una de las posibles bases al conjunto {|πi⟩} = 1,t,t2,t3,··· ,tn , pero en este\n#caso con el producto interno definido por:\n# Encuentre la base ortogonal correspondiente. A esta nueva base se le conoce como polinomios de\n#Chebyshev de segunda especie",
      "metadata": {
        "trusted": true
      },
      "outputs": [],
      "execution_count": 6
    },
    {
      "id": "53707315-4195-4ca7-ba9b-d0b02721930d",
      "cell_type": "code",
      "source": "x = symbols(\"x\")",
      "metadata": {
        "trusted": true
      },
      "outputs": [],
      "execution_count": 24
    },
    {
      "id": "b655408d-3fb2-4ce8-8ab4-b1c7fba0afc3",
      "cell_type": "code",
      "source": "def producto_interno(f, g):\n    valor = integrate(f*g*(sp.sqrt(1-(x**2))),(x,-1,1))\n    return valor",
      "metadata": {
        "trusted": true
      },
      "outputs": [],
      "execution_count": 29
    },
    {
      "id": "ad0b1cf1-538b-4bd5-b9f2-3942a2372863",
      "cell_type": "code",
      "source": "#probando a ver si me da lo mismo computacional que a mano:\nf =  x**4\ng = sp.sqrt(x)\nproducto_interno(f,g)",
      "metadata": {
        "trusted": true
      },
      "outputs": [
        {
          "execution_count": 31,
          "output_type": "execute_result",
          "data": {
            "text/plain": "gamma(11/4)*hyper((-1/2, 11/4), (15/4,), 1)/(2*gamma(15/4)) + I*gamma(11/4)*hyper((-1/2, 11/4), (15/4,), 1)/(2*gamma(15/4))",
            "text/latex": "$\\displaystyle \\frac{\\Gamma\\left(\\frac{11}{4}\\right) {{}_{2}F_{1}\\left(\\begin{matrix} - \\frac{1}{2}, \\frac{11}{4} \\\\ \\frac{15}{4} \\end{matrix}\\middle| {1} \\right)}}{2 \\Gamma\\left(\\frac{15}{4}\\right)} + \\frac{i \\Gamma\\left(\\frac{11}{4}\\right) {{}_{2}F_{1}\\left(\\begin{matrix} - \\frac{1}{2}, \\frac{11}{4} \\\\ \\frac{15}{4} \\end{matrix}\\middle| {1} \\right)}}{2 \\Gamma\\left(\\frac{15}{4}\\right)}$"
          },
          "metadata": {}
        }
      ],
      "execution_count": 31
    },
    {
      "id": "b92da44f-e8c2-4e1d-96e1-bfc934d1d7b5",
      "cell_type": "code",
      "source": "def ortogonalizar(array_vectors):\n\n    #elegimos el primer vector de la base ortogonal\n    base_ortogonal = [array_vectors[0]]\n    \n    for i in range(1, len(array_vectors)):\n\n        #este sera el siguiente vector que vamos a ortogonalizar\n        vector = array_vectors[i]\n        #en este array vamos a guardar los terminos de las proyecciones\n        terminos = []\n        #aqui vamos a restar todos los terminos del array anterior\n        resta = 0\n        \n        for j in range(i-1, -1, -1):\n           \n            terminos.append(((producto_interno(vector, base_ortogonal[j]))/(producto_interno(base_ortogonal[j], base_ortogonal[j])))*base_ortogonal[j])\n        \n        for d in range(0, len(terminos)):\n            \n            resta = resta + terminos[d]\n\n        #restamos el vector pa volver ortogonal a todos los demas y lo guardamos en la base ortogonal\n        vector = vector - resta    \n        base_ortogonal.append(vector)\n            \n\n    return base_ortogonal\n        \n        ",
      "metadata": {
        "trusted": true
      },
      "outputs": [],
      "execution_count": 36
    },
    {
      "id": "84b39ffe-6575-4419-a799-fec350fd4cb2",
      "cell_type": "code",
      "source": "vectorcitos = [1, x, x**2, x**3, x**4]\nbase = ortogonalizar(vectorcitos)\nprint(base)",
      "metadata": {
        "trusted": true
      },
      "outputs": [],
      "execution_count": null
    },
    {
      "id": "d5a2ed2e-63ce-4072-9b2c-8f9896a8a318",
      "cell_type": "code",
      "source": "producto_interno(base[2], base[3])",
      "metadata": {
        "trusted": true
      },
      "outputs": [
        {
          "execution_count": 35,
          "output_type": "execute_result",
          "data": {
            "text/plain": "0",
            "text/latex": "$\\displaystyle 0$"
          },
          "metadata": {}
        }
      ],
      "execution_count": 35
    },
    {
      "id": "6e14de9d-2e1d-4066-9c6b-be41b25a1ff9",
      "cell_type": "code",
      "source": "#sii funciona =)",
      "metadata": {
        "trusted": true
      },
      "outputs": [],
      "execution_count": null
    }
  ]
}