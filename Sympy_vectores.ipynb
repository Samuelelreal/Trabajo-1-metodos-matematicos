{
  "metadata": {
    "kernelspec": {
      "name": "python",
      "display_name": "Python (Pyodide)",
      "language": "python"
    },
    "language_info": {
      "codemirror_mode": {
        "name": "python",
        "version": 3
      },
      "file_extension": ".py",
      "mimetype": "text/x-python",
      "name": "python",
      "nbconvert_exporter": "python",
      "pygments_lexer": "ipython3",
      "version": "3.8"
    }
  },
  "nbformat_minor": 5,
  "nbformat": 4,
  "cells": [
    {
      "id": "f2178daa-a30b-44b0-892f-4d58514d2f83",
      "cell_type": "code",
      "source": "import sympy\nfrom sympy import *\nfrom sympy.vector import *\nfrom sympy import acos, Symbol\nR = CoordSys3D(\"R\")",
      "metadata": {
        "trusted": true
      },
      "outputs": [],
      "execution_count": 6
    },
    {
      "id": "e74c7f74-ec9e-406a-8c79-ef64ba4d55fd",
      "cell_type": "code",
      "source": "R.i",
      "metadata": {
        "trusted": true
      },
      "outputs": [
        {
          "execution_count": 7,
          "output_type": "execute_result",
          "data": {
            "text/plain": "R.i",
            "text/latex": "$\\displaystyle \\mathbf{\\hat{i}_{R}}$"
          },
          "metadata": {}
        }
      ],
      "execution_count": 7
    },
    {
      "id": "e213b53d-108c-414b-9549-b2a139d74d03",
      "cell_type": "code",
      "source": "R.j",
      "metadata": {
        "trusted": true
      },
      "outputs": [
        {
          "execution_count": 8,
          "output_type": "execute_result",
          "data": {
            "text/plain": "R.j",
            "text/latex": "$\\displaystyle \\mathbf{\\hat{j}_{R}}$"
          },
          "metadata": {}
        }
      ],
      "execution_count": 8
    },
    {
      "id": "9dbb47fd-80bb-4945-9bc9-4f50a5d8b9d0",
      "cell_type": "code",
      "source": "a = 1*R.i + 2*R.j + 3*R.k\nb = 4*R.i + 5*R.j + 6*R.k\nc = 3*R.i + 2*R.j + 1*R.k\nd = 6*R.i + 5*R.j + 4*R.k",
      "metadata": {
        "trusted": true
      },
      "outputs": [],
      "execution_count": 9
    },
    {
      "id": "899f6c89-9d80-4b60-b5a7-0f565b119550",
      "cell_type": "code",
      "source": "print(a+b+c+d)",
      "metadata": {
        "trusted": true
      },
      "outputs": [
        {
          "name": "stdout",
          "output_type": "stream",
          "text": "14*R.i + 14*R.j + 14*R.k\n"
        }
      ],
      "execution_count": 10
    },
    {
      "id": "7b517c49-4775-4174-8b12-02e80e8d57a5",
      "cell_type": "code",
      "source": "print(a+b-c-d)",
      "metadata": {
        "trusted": true
      },
      "outputs": [
        {
          "name": "stdout",
          "output_type": "stream",
          "text": "(-4)*R.i + 4*R.k\n"
        }
      ],
      "execution_count": 11
    },
    {
      "id": "c2978a7a-715c-4a2c-b527-ca8204098e50",
      "cell_type": "code",
      "source": "print(a-b+c-d)",
      "metadata": {
        "trusted": true
      },
      "outputs": [
        {
          "name": "stdout",
          "output_type": "stream",
          "text": "(-6)*R.i + (-6)*R.j + (-6)*R.k\n"
        }
      ],
      "execution_count": 12
    },
    {
      "id": "e0e8f554-5bf6-4243-8170-f583333036f3",
      "cell_type": "code",
      "source": "print(-a+b-c+d)",
      "metadata": {
        "trusted": true
      },
      "outputs": [
        {
          "name": "stdout",
          "output_type": "stream",
          "text": "6*R.i + 6*R.j + 6*R.k\n"
        }
      ],
      "execution_count": 13
    },
    {
      "id": "f4fa9962-6882-469b-a734-4891fadc25aa",
      "cell_type": "code",
      "source": "sympy.pi**2",
      "metadata": {
        "trusted": true
      },
      "outputs": [
        {
          "execution_count": 14,
          "output_type": "execute_result",
          "data": {
            "text/plain": "pi**2",
            "text/latex": "$\\displaystyle \\pi^{2}$"
          },
          "metadata": {}
        }
      ],
      "execution_count": 14
    },
    {
      "id": "b40e63ac-0ead-4229-b5f2-92f5d9982095",
      "cell_type": "code",
      "source": "def angulo_entre_vectores(v1, v2):\n    theta = (v1.dot(v2)) / (v1.magnitude()*v2.magnitude())\n    theta = round(theta, 4)\n    theta_rad = acos(theta)\n    theta_grades = (180/round(sympy.pi, 4))*theta_rad\n    return theta_rad,  theta_grades",
      "metadata": {
        "trusted": true
      },
      "outputs": [],
      "execution_count": 37
    },
    {
      "id": "cc5e92de-b947-4171-a04c-2952f4c513db",
      "cell_type": "code",
      "source": "def proyeccion_entre_vectores(w1, w2):\n    escalar = (w1.dot(w2))/ (w2.magnitude()**2)\n    return escalar*w2",
      "metadata": {
        "trusted": true
      },
      "outputs": [],
      "execution_count": 53
    },
    {
      "id": "a378a76b-48a4-497b-b5de-7729b603afd4",
      "cell_type": "code",
      "source": "#cosenos directores de a\nia = angulo_entre_vectores(R.i,a)\nprint(\"angulo i-a: \", ia[0], \" rad\")\nprint(\"angulo i-a: \", ia[1], \" grades\")\n\nja = angulo_entre_vectores(R.j, a)\nprint(\"angulo j-a: \", ja[0], \" rad\")\nprint(\"angulo j-a:\", ja[1], \" grades\")\n\nka = angulo_entre_vectores(R.k, a)\nprint(\"angulo k-a: \", ka[0], \" rad\")\nprint(\"angulo k-a: \", ka[1] , \" grades\")",
      "metadata": {
        "trusted": true
      },
      "outputs": [
        {
          "name": "stdout",
          "output_type": "stream",
          "text": "angulo i-a:  1.300  rad\nangulo i-a:  74.496  grades\nangulo j-a:  1.007  rad\nangulo j-a: 57.690  grades\nangulo k-a:  0.6405  rad\nangulo k-a:  36.697  grades\n"
        }
      ],
      "execution_count": 41
    },
    {
      "id": "126809ac-06e4-478f-9158-0f8bb128bcb5",
      "cell_type": "code",
      "source": "#cosenos directores de b\nib = angulo_entre_vectores(R.i,b)\nprint(\"angulo i-b: \", ib[0], \" rad\")\nprint(\"angulo i-b: \", ib[1], \" grades\")\n\njb = angulo_entre_vectores(R.j, b)\nprint(\"angulo j-b: \", jb[0], \" rad\")\nprint(\"angulo j-b:\", jb[1], \" grades\")\n\nkb = angulo_entre_vectores(R.k, b)\nprint(\"angulo k-b: \", kb[0], \" rad\")\nprint(\"angulo k-b: \", kb[1] , \" grades\")\n\n",
      "metadata": {
        "trusted": true
      },
      "outputs": [
        {
          "name": "stdout",
          "output_type": "stream",
          "text": "angulo i-b:  1.098  rad\nangulo i-b:  62.884  grades\nangulo j-b:  0.9645  rad\nangulo j-b: 55.263  grades\nangulo k-b:  0.8178  rad\nangulo k-b:  46.859  grades\n"
        }
      ],
      "execution_count": 42
    },
    {
      "id": "9caf544f-90c9-4ac5-b09c-d814271fee4a",
      "cell_type": "code",
      "source": "#cosenos directores de c\nic = angulo_entre_vectores(R.i,c)\nprint(\"angulo i-c: \", ic[0], \" rad\")\nprint(\"angulo i-c: \", ic[1], \" grades\")\n\njc = angulo_entre_vectores(R.j, c)\nprint(\"angulo j-c: \", jc[0], \" rad\")\nprint(\"angulo j-c:\", jc[1], \" grades\")\n\nkc = angulo_entre_vectores(R.k, c)\nprint(\"angulo k-c: \", kc[0], \" rad\")\nprint(\"angulo k-c: \", kc[1] , \" grades\")",
      "metadata": {
        "trusted": true
      },
      "outputs": [
        {
          "name": "stdout",
          "output_type": "stream",
          "text": "angulo i-c:  0.6405  rad\nangulo i-c:  36.697  grades\nangulo j-c:  1.007  rad\nangulo j-c: 57.690  grades\nangulo k-c:  1.300  rad\nangulo k-c:  74.496  grades\n"
        }
      ],
      "execution_count": 43
    },
    {
      "id": "d823d752-9626-4255-9a56-6dd0c8fedb3f",
      "cell_type": "code",
      "source": "#cosenos directores d\nid = angulo_entre_vectores(R.i,d)\nprint(\"angulo i-d: \", id[0], \" rad\")\nprint(\"angulo i-d: \", id[1], \" grades\")\n\njd = angulo_entre_vectores(R.j, d)\nprint(\"angulo j-d: \", jd[0], \" rad\")\nprint(\"angulo j-d:\", jd[1], \" grades\")\n\nkd = angulo_entre_vectores(R.k, d)\nprint(\"angulo k-d: \", kd[0], \" rad\")\nprint(\"angulo k-d: \", kd[1] , \" grades\")",
      "metadata": {
        "trusted": true
      },
      "outputs": [
        {
          "name": "stdout",
          "output_type": "stream",
          "text": "angulo i-d:  0.8178  rad\nangulo i-d:  46.859  grades\nangulo j-d:  0.9645  rad\nangulo j-d: 55.263  grades\nangulo k-d:  1.098  rad\nangulo k-d:  62.884  grades\n"
        }
      ],
      "execution_count": 44
    },
    {
      "id": "dd111eb5-d023-4551-bc0a-b0c036c3d35c",
      "cell_type": "code",
      "source": "#magnitudes vectores\nprint(\"magnitud de a: \", round(a.magnitude(), 2))\nprint(\"magnitud de b: \", round(b.magnitude(),2))\nprint(\"magnitud de c: \", round(c.magnitude(), 2))\nprint(\"magnitud de d: \", round(d.magnitude(), 2))",
      "metadata": {
        "trusted": true
      },
      "outputs": [
        {
          "name": "stdout",
          "output_type": "stream",
          "text": "magnitud de a:  3.74\nmagnitud de b:  8.77\nmagnitud de c:  3.74\nmagnitud de d:  8.77\n"
        }
      ],
      "execution_count": 47
    },
    {
      "id": "be1e2781-31f4-4f9b-b64d-94db929248ea",
      "cell_type": "code",
      "source": "#angulo entre a y b\nab = angulo_entre_vectores(a,b)\nprint(\"angulo entre a-b: \", ab[0], \" rad\")\nprint(\"angulo entre a-b: \", ab[1], \" grades\")",
      "metadata": {
        "trusted": true
      },
      "outputs": [
        {
          "name": "stdout",
          "output_type": "stream",
          "text": "angulo entre a-b:  0.2259  rad\nangulo entre a-b:  12.941  grades\n"
        }
      ],
      "execution_count": 51
    },
    {
      "id": "861b95f9-9dd4-463f-92f3-167680726936",
      "cell_type": "code",
      "source": "#angulo entre c y d\ncd = angulo_entre_vectores(c,d)\nprint(\"angulo entre c-d: \", cd[0], \" rad\")\nprint(\"angulo entre c-d: \", cd[1], \" grades\")",
      "metadata": {
        "trusted": true
      },
      "outputs": [
        {
          "name": "stdout",
          "output_type": "stream",
          "text": "angulo entre c-d:  0.2259  rad\nangulo entre c-d:  12.941  grades\n"
        }
      ],
      "execution_count": 52
    },
    {
      "id": "ceec885c-c22b-4da4-aeaf-ead54ad0a1f5",
      "cell_type": "code",
      "source": "#proyeccion de a sobre b\nproy_ab = proyeccion_entre_vectores(a,b)\nproy_ab",
      "metadata": {
        "trusted": true
      },
      "outputs": [
        {
          "execution_count": 54,
          "output_type": "execute_result",
          "data": {
            "text/plain": "128/77*R.i + 160/77*R.j + 192/77*R.k",
            "text/latex": "$\\displaystyle \\left(\\frac{128}{77}\\right)\\mathbf{\\hat{i}_{R}} + \\left(\\frac{160}{77}\\right)\\mathbf{\\hat{j}_{R}} + \\left(\\frac{192}{77}\\right)\\mathbf{\\hat{k}_{R}}$"
          },
          "metadata": {}
        }
      ],
      "execution_count": 54
    },
    {
      "id": "99ed6d7a-3974-4417-800b-c8b45e100601",
      "cell_type": "code",
      "source": "#¿si los vectores a,b,c,d son coplanares?\nα, β, Γ, x = symbols(\"α β Γ x\")\nec1 = α*(a.dot(R.i)) + β*(b.dot(R.i)) + Γ*(c.dot(R.i)) + x*(d.dot(R.i))\nec2 = α*(a.dot(R.j)) + β*(b.dot(R.j)) + Γ*(c.dot(R.j)) + x*(d.dot(R.j)) \nec3 = α*(a.dot(R.k)) + β*(b.dot(R.k)) + Γ*(c.dot(R.k)) + x*(d.dot(R.k)) \nsolve([ec1, ec2, ec3],[α, β, Γ, x])",
      "metadata": {
        "trusted": true
      },
      "outputs": [
        {
          "execution_count": 64,
          "output_type": "execute_result",
          "data": {
            "text/plain": "{α: 10*x/3 + 7*Γ/3, β: -7*x/3 - 4*Γ/3}"
          },
          "metadata": {}
        }
      ],
      "execution_count": 64
    },
    {
      "id": "139aee6c-bc88-40d2-ae54-671f2d3f9ce1",
      "cell_type": "code",
      "source": "#si son coplanares ya que son linealmente dependientes. Son linealmente dependientes ya que tiene muchas formas para que la combinacion lineal de los vectores sea cero",
      "metadata": {
        "trusted": true
      },
      "outputs": [],
      "execution_count": null
    },
    {
      "id": "8005de72-86bf-4199-8c65-de7426aa8501",
      "cell_type": "code",
      "source": "#(a+b) . (c+d)\n(a+b).dot(c+d)",
      "metadata": {
        "trusted": true
      },
      "outputs": [
        {
          "execution_count": 65,
          "output_type": "execute_result",
          "data": {
            "text/plain": "139",
            "text/latex": "$\\displaystyle 139$"
          },
          "metadata": {}
        }
      ],
      "execution_count": 65
    },
    {
      "id": "0f3dcc32-5c7a-4592-860f-54ebbea0584e",
      "cell_type": "code",
      "source": "#los productos axb, bxc, cxd y los angulos que forman con d\naxb_d = angulo_entre_vectores(a.cross(b), d)\nprint(\"angulo entre axb y d: \", axb_d[0], \" rad\")\nbxc_d = angulo_entre_vectores(b.cross(c), d)\nprint(\"angulo entre bxc y d: \", bxc_d[0], \" rad\")\ncxd_d = angulo_entre_vectores(c.cross(d), d)\nprint(\"angulo entre cxd y d: \", cxd_d[0], \" rad\")",
      "metadata": {
        "trusted": true
      },
      "outputs": [
        {
          "name": "stdout",
          "output_type": "stream",
          "text": "angulo entre axb y d:  pi/2  rad\nangulo entre bxc y d:  pi/2  rad\nangulo entre cxd y d:  pi/2  rad\n"
        }
      ],
      "execution_count": 69
    },
    {
      "id": "480b9d90-073d-4f0d-b92c-31dcd86c1b6b",
      "cell_type": "code",
      "source": "#c . (axb)\nc.dot(a.cross(b))",
      "metadata": {
        "trusted": true
      },
      "outputs": [
        {
          "execution_count": 70,
          "output_type": "execute_result",
          "data": {
            "text/plain": "0",
            "text/latex": "$\\displaystyle 0$"
          },
          "metadata": {}
        }
      ],
      "execution_count": 70
    },
    {
      "id": "540cce4d-6bec-487d-8639-f2fc71d54786",
      "cell_type": "code",
      "source": "#son coplanares o linealmente dependientes a,b y c",
      "metadata": {
        "trusted": true
      },
      "outputs": [],
      "execution_count": null
    }
  ]
}